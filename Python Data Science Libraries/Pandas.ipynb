{
 "cells": [
  {
   "cell_type": "code",
   "execution_count": 107,
   "metadata": {},
   "outputs": [],
   "source": [
    "import numpy as np\n",
    "import pandas as pd"
   ]
  },
  {
   "cell_type": "code",
   "execution_count": 108,
   "metadata": {},
   "outputs": [
    {
     "name": "stdout",
     "output_type": "stream",
     "text": [
      "0    3267\n",
      "1    8773\n",
      "2    1244\n",
      "3    6579\n",
      "4    5201\n",
      "Name: Steps, dtype: int64\n"
     ]
    }
   ],
   "source": [
    "#Create a Pandas Series \n",
    "\n",
    "step_data = [3267,8773,1244,6579,5201]\n",
    "step_count = pd.Series(step_data,name='Steps')\n",
    "print (step_count)\n",
    "\n"
   ]
  },
  {
   "cell_type": "code",
   "execution_count": 109,
   "metadata": {},
   "outputs": [
    {
     "name": "stdout",
     "output_type": "stream",
     "text": [
      "DatetimeIndex(['2018-01-01', '2018-01-02', '2018-01-03', '2018-01-04',\n",
      "               '2018-01-05', '2018-01-06', '2018-01-07', '2018-01-08'],\n",
      "              dtype='datetime64[ns]', freq='D')\n"
     ]
    }
   ],
   "source": [
    "#Create a Pandas date range \n",
    "\n",
    "step_countdr=pd.date_range(start='1/1/2018', periods=8)\n",
    "print(step_countdr)"
   ]
  },
  {
   "cell_type": "code",
   "execution_count": 110,
   "metadata": {},
   "outputs": [
    {
     "name": "stdout",
     "output_type": "stream",
     "text": [
      "int64\n"
     ]
    }
   ],
   "source": [
    "#View the data types \n",
    "print (step_count.dtypes)\n"
   ]
  },
  {
   "cell_type": "code",
   "execution_count": 111,
   "metadata": {},
   "outputs": [
    {
     "name": "stdout",
     "output_type": "stream",
     "text": [
      "int64\n",
      "float64\n"
     ]
    }
   ],
   "source": [
    "#Playing with datatypes and imputation. \n",
    "print(step_count.dtypes)\n",
    "\n",
    "#conversion to float\n",
    "step_count = step_count.astype(np.float)\n",
    "print(step_count.dtypes)\n"
   ]
  },
  {
   "cell_type": "code",
   "execution_count": 112,
   "metadata": {},
   "outputs": [
    {
     "name": "stdout",
     "output_type": "stream",
     "text": [
      "0    3267.0\n",
      "1       0.0\n",
      "2       0.0\n",
      "3    6579.0\n",
      "4    5201.0\n",
      "Name: Steps, dtype: float64\n"
     ]
    }
   ],
   "source": [
    "#Creating invalid data and filling it with zeroes.\n",
    "step_count[1:3] = np.NaN\n",
    "step_count = step_count.fillna(0.)\n",
    "print(step_count)\n"
   ]
  },
  {
   "cell_type": "code",
   "execution_count": 113,
   "metadata": {},
   "outputs": [
    {
     "name": "stdout",
     "output_type": "stream",
     "text": [
      "      0     1\n",
      "0  3620  10.7\n",
      "1  7891   0.0\n",
      "2  9761   NaN\n",
      "3  3907   2.4\n",
      "4  4338  15.3\n",
      "5  5373  10.9\n"
     ]
    }
   ],
   "source": [
    "#Dataframe and Row manipulation.\n",
    "\n",
    "step_data = [3620, 7891, 9761,3907, 4338, 5373]\n",
    "cycling_data = [10.7, 0, None,2.4, 15.3,\n",
    "10.9, 0, None]\n",
    "joined_data = list(zip(step_data,cycling_data))\n",
    "activity_df = pd.DataFrame(joined_data)\n",
    "print(activity_df)\n",
    "\n"
   ]
  },
  {
   "cell_type": "code",
   "execution_count": 114,
   "metadata": {},
   "outputs": [
    {
     "name": "stdout",
     "output_type": "stream",
     "text": [
      "            Walking  Cycling\n",
      "2018-01-01     3620     10.7\n",
      "2018-01-02     7891      0.0\n",
      "2018-01-03     9761      NaN\n",
      "2018-01-04     3907      2.4\n",
      "2018-01-05     4338     15.3\n",
      "2018-01-06     5373     10.9\n"
     ]
    }
   ],
   "source": [
    "#Date Range \n",
    "activity_df = pd.DataFrame(joined_data,\n",
    "index=pd.date_range(start='1/1/2018', periods=6),\n",
    "columns=['Walking','Cycling'])\n",
    "print(activity_df)\n"
   ]
  },
  {
   "cell_type": "code",
   "execution_count": 115,
   "metadata": {},
   "outputs": [
    {
     "name": "stdout",
     "output_type": "stream",
     "text": [
      "Walking    9761.0\n",
      "Cycling       NaN\n",
      "Name: 2018-01-03 00:00:00, dtype: float64\n",
      "Walking    3907.0\n",
      "Cycling       2.4\n",
      "Name: 2018-01-04 00:00:00, dtype: float64\n"
     ]
    }
   ],
   "source": [
    "#Indexing rows using iloc and loc methods.\n",
    "#loc\n",
    "print(activity_df.loc['2018-01-03'])\n",
    "#iloc\n",
    "print(activity_df.iloc[-3])"
   ]
  },
  {
   "cell_type": "code",
   "execution_count": 116,
   "metadata": {},
   "outputs": [
    {
     "name": "stdout",
     "output_type": "stream",
     "text": [
      "2018-01-01    10.7\n",
      "2018-01-02     0.0\n",
      "2018-01-03     NaN\n",
      "2018-01-04     2.4\n",
      "2018-01-05    15.3\n",
      "2018-01-06    10.9\n",
      "Freq: D, Name: Cycling, dtype: float64\n"
     ]
    }
   ],
   "source": [
    "#Indexing dataframe columns\n",
    "print(activity_df['Cycling'])"
   ]
  },
  {
   "cell_type": "code",
   "execution_count": 117,
   "metadata": {},
   "outputs": [
    {
     "name": "stdout",
     "output_type": "stream",
     "text": [
      "   sepal_length  sepal_width  petal_length  petal_width      species\n",
      "0           5.1          3.5           1.4          0.2  Iris-setosa\n",
      "1           4.9          3.0           1.4          0.2  Iris-setosa\n",
      "2           4.7          3.2           1.3          0.2  Iris-setosa\n",
      "3           4.6          3.1           1.5          0.2  Iris-setosa\n",
      "4           5.0          3.6           1.4          0.2  Iris-setosa\n"
     ]
    }
   ],
   "source": [
    "#Reading data from a file.\n",
    "file = 'data/Iris_Data.csv'\n",
    "\n",
    "data = pd.read_csv(file)\n",
    "print(data.iloc[:5])"
   ]
  },
  {
   "cell_type": "code",
   "execution_count": 118,
   "metadata": {},
   "outputs": [
    {
     "name": "stdout",
     "output_type": "stream",
     "text": [
      "   petal_width      species  sepal_area\n",
      "0          0.2  Iris-setosa       17.85\n",
      "1          0.2  Iris-setosa       14.70\n",
      "2          0.2  Iris-setosa       15.04\n",
      "3          0.2  Iris-setosa       14.26\n",
      "4          0.2  Iris-setosa       18.00\n"
     ]
    }
   ],
   "source": [
    "data ['sepal_area'] = data.sepal_length * data.sepal_width\n",
    "print(data.iloc[:5, -3:])"
   ]
  },
  {
   "cell_type": "code",
   "execution_count": 119,
   "metadata": {},
   "outputs": [
    {
     "name": "stdout",
     "output_type": "stream",
     "text": [
      "<bound method DataFrame.quantile of      sepal_length  sepal_width  petal_length  petal_width         species  \\\n",
      "0             5.1          3.5           1.4          0.2     Iris-setosa   \n",
      "1             4.9          3.0           1.4          0.2     Iris-setosa   \n",
      "2             4.7          3.2           1.3          0.2     Iris-setosa   \n",
      "3             4.6          3.1           1.5          0.2     Iris-setosa   \n",
      "4             5.0          3.6           1.4          0.2     Iris-setosa   \n",
      "..            ...          ...           ...          ...             ...   \n",
      "145           6.7          3.0           5.2          2.3  Iris-virginica   \n",
      "146           6.3          2.5           5.0          1.9  Iris-virginica   \n",
      "147           6.5          3.0           5.2          2.0  Iris-virginica   \n",
      "148           6.2          3.4           5.4          2.3  Iris-virginica   \n",
      "149           5.9          3.0           5.1          1.8  Iris-virginica   \n",
      "\n",
      "     sepal_area  \n",
      "0         17.85  \n",
      "1         14.70  \n",
      "2         15.04  \n",
      "3         14.26  \n",
      "4         18.00  \n",
      "..          ...  \n",
      "145       20.10  \n",
      "146       15.75  \n",
      "147       19.50  \n",
      "148       21.08  \n",
      "149       17.70  \n",
      "\n",
      "[150 rows x 6 columns]>\n",
      "<bound method DataFrame.median of      sepal_length  sepal_width  petal_length  petal_width         species  \\\n",
      "0             5.1          3.5           1.4          0.2     Iris-setosa   \n",
      "1             4.9          3.0           1.4          0.2     Iris-setosa   \n",
      "2             4.7          3.2           1.3          0.2     Iris-setosa   \n",
      "3             4.6          3.1           1.5          0.2     Iris-setosa   \n",
      "4             5.0          3.6           1.4          0.2     Iris-setosa   \n",
      "..            ...          ...           ...          ...             ...   \n",
      "145           6.7          3.0           5.2          2.3  Iris-virginica   \n",
      "146           6.3          2.5           5.0          1.9  Iris-virginica   \n",
      "147           6.5          3.0           5.2          2.0  Iris-virginica   \n",
      "148           6.2          3.4           5.4          2.3  Iris-virginica   \n",
      "149           5.9          3.0           5.1          1.8  Iris-virginica   \n",
      "\n",
      "     sepal_area  \n",
      "0         17.85  \n",
      "1         14.70  \n",
      "2         15.04  \n",
      "3         14.26  \n",
      "4         18.00  \n",
      "..          ...  \n",
      "145       20.10  \n",
      "146       15.75  \n",
      "147       19.50  \n",
      "148       21.08  \n",
      "149       17.70  \n",
      "\n",
      "[150 rows x 6 columns]>\n",
      "<bound method DataFrame.mode of      sepal_length  sepal_width  petal_length  petal_width         species  \\\n",
      "0             5.1          3.5           1.4          0.2     Iris-setosa   \n",
      "1             4.9          3.0           1.4          0.2     Iris-setosa   \n",
      "2             4.7          3.2           1.3          0.2     Iris-setosa   \n",
      "3             4.6          3.1           1.5          0.2     Iris-setosa   \n",
      "4             5.0          3.6           1.4          0.2     Iris-setosa   \n",
      "..            ...          ...           ...          ...             ...   \n",
      "145           6.7          3.0           5.2          2.3  Iris-virginica   \n",
      "146           6.3          2.5           5.0          1.9  Iris-virginica   \n",
      "147           6.5          3.0           5.2          2.0  Iris-virginica   \n",
      "148           6.2          3.4           5.4          2.3  Iris-virginica   \n",
      "149           5.9          3.0           5.1          1.8  Iris-virginica   \n",
      "\n",
      "     sepal_area  \n",
      "0         17.85  \n",
      "1         14.70  \n",
      "2         15.04  \n",
      "3         14.26  \n",
      "4         18.00  \n",
      "..          ...  \n",
      "145       20.10  \n",
      "146       15.75  \n",
      "147       19.50  \n",
      "148       21.08  \n",
      "149       17.70  \n",
      "\n",
      "[150 rows x 6 columns]>\n"
     ]
    }
   ],
   "source": [
    "# Statistical Calculations in Pandas\n",
    "#print(data.describe)\n",
    "print(data.quantile)\n",
    "print(data.median)\n",
    "print(data.mode)"
   ]
  },
  {
   "cell_type": "code",
   "execution_count": 120,
   "metadata": {},
   "outputs": [
    {
     "name": "stdout",
     "output_type": "stream",
     "text": [
      "\n",
      "<bound method Series.var of 0      5.1\n",
      "1      4.9\n",
      "2      4.7\n",
      "3      4.6\n",
      "4      5.0\n",
      "      ... \n",
      "145    6.7\n",
      "146    6.3\n",
      "147    6.5\n",
      "148    6.2\n",
      "149    5.9\n",
      "Name: sepal_length, Length: 150, dtype: float64>\n"
     ]
    }
   ],
   "source": [
    "print()\n",
    "print(data.sepal_length.var)"
   ]
  }
 ],
 "metadata": {
  "kernelspec": {
   "display_name": "Python 3",
   "language": "python",
   "name": "python3"
  },
  "language_info": {
   "codemirror_mode": {
    "name": "ipython",
    "version": 3
   },
   "file_extension": ".py",
   "mimetype": "text/x-python",
   "name": "python",
   "nbconvert_exporter": "python",
   "pygments_lexer": "ipython3",
   "version": "3.7.4"
  }
 },
 "nbformat": 4,
 "nbformat_minor": 2
}
